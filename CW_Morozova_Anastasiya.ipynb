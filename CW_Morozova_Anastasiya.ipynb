{
 "cells": [
  {
   "cell_type": "markdown",
   "metadata": {},
   "source": [
    "# Компьютерная работа\n",
    "## Морозова  Анастасия"
   ]
  },
  {
   "cell_type": "code",
   "execution_count": 77,
   "metadata": {
    "collapsed": true
   },
   "outputs": [],
   "source": [
    "import networkx as nx\n",
    "import numpy as np\n",
    "import pylab as plt\n",
    "%matplotlib inline"
   ]
  },
  {
   "cell_type": "code",
   "execution_count": 3,
   "metadata": {
    "collapsed": false
   },
   "outputs": [],
   "source": [
    "g = nx.read_edgelist(\"CA-HepTh.txt\")"
   ]
  },
  {
   "cell_type": "markdown",
   "metadata": {},
   "source": [
    "### 1) Вычислите топологические свойства (число вершин, число ребер, плотность, радиус, диаметр, ассортативность, средний кратчайший путь, транзитивность, средний коэффициент кластеризации)"
   ]
  },
  {
   "cell_type": "code",
   "execution_count": 14,
   "metadata": {
    "collapsed": false
   },
   "outputs": [
    {
     "name": "stdout",
     "output_type": "stream",
     "text": [
      "Число вершин: 9877\n",
      "Число ребер: 25998\n",
      "Плотность: 0.000533044909248889\n"
     ]
    }
   ],
   "source": [
    "print(\"Число вершин: %d\" % nx.number_of_nodes(g))\n",
    "print(\"Число ребер: %d\" % nx.number_of_edges(g))\n",
    "print(\"Плотность: %s\" % nx.density(g))"
   ]
  },
  {
   "cell_type": "code",
   "execution_count": 15,
   "metadata": {
    "collapsed": false,
    "scrolled": true
   },
   "outputs": [
    {
     "data": {
      "image/png": "[encoded data removed]",
      "text/plain": [
       "<matplotlib.figure.Figure at 0x1f1e4a57320>"
      ]
     },
     "metadata": {},
     "output_type": "display_data"
    }
   ],
   "source": [
    "nx.draw_networkx(g, node_size=10,with_labels=False)"
   ]
  },
  {
   "cell_type": "code",
   "execution_count": 8,
   "metadata": {
    "collapsed": false
   },
   "outputs": [
    {
     "name": "stdout",
     "output_type": "stream",
     "text": [
      "В данном графе 429 компонент\n"
     ]
    }
   ],
   "source": [
    "print(\"В данном графе {} компонент\".format(nx.number_connected_components(g)))"
   ]
  },
  {
   "cell_type": "markdown",
   "metadata": {},
   "source": [
    "Возьмем компоненту с наибольшим количеством вершин и будем проводить анализ для неё."
   ]
  },
  {
   "cell_type": "code",
   "execution_count": 13,
   "metadata": {
    "collapsed": false
   },
   "outputs": [
    {
     "name": "stdout",
     "output_type": "stream",
     "text": [
      "Наибольшая компонента имеет длину: 8638\n"
     ]
    }
   ],
   "source": [
    "m=[]\n",
    "for i in list(nx.connected_component_subgraphs(g)):\n",
    "    m.append(i.number_of_nodes())\n",
    "print(\"Наибольшая компонента имеет длину: {}\".format(max(m)))"
   ]
  },
  {
   "cell_type": "code",
   "execution_count": 16,
   "metadata": {
    "collapsed": false
   },
   "outputs": [
    {
     "name": "stdout",
     "output_type": "stream",
     "text": [
      "Длина компоненты: 8638\n",
      "Радиус: 10\n",
      "Диаметр: 18\n",
      "Ассортативность: 0.238587530342\n",
      "Средний кратчайший путь: 5.945432380163172\n",
      "Средний коэфиициент кластеризации: 0.4815641520261674\n",
      "Транзитивность: 0.281129264921973\n",
      "\n"
     ]
    }
   ],
   "source": [
    "for i in nx.connected_component_subgraphs(g):\n",
    "    if (len(i)==8638):\n",
    "        print (\"Длина компоненты: %d\" % len(i))\n",
    "        print (\"Радиус: %d\" % nx.radius(i))\n",
    "        print (\"Диаметр: %d\" % nx.diameter(i))\n",
    "        print (\"Ассортативность: %s\" % nx.degree_assortativity_coefficient(i))\n",
    "        print (\"Средний кратчайший путь: %s\" % nx.average_shortest_path_length(i))\n",
    "        print (\"Средний коэфиициент кластеризации: %s\" % nx.average_clustering(i))\n",
    "        print (\"Транзитивность: %s\" % nx.transitivity(i))\n",
    "        print ('')"
   ]
  },
  {
   "cell_type": "code",
   "execution_count": 71,
   "metadata": {
    "collapsed": false
   },
   "outputs": [
    {
     "name": "stdout",
     "output_type": "stream",
     "text": [
      "Длина компоненты: 8638\n",
      "Ассортативность: 0.238587530342\n",
      "Средний коэфиициент кластеризации: 0.4815641520261674\n",
      "Транзитивность: 0.281129264921973\n",
      "\n"
     ]
    }
   ],
   "source": [
    "for i in nx.connected_component_subgraphs(g):\n",
    "    if (len(i)==8638):\n",
    "        print (\"Длина компоненты: %d\" % len(i))\n",
    "        print (\"Ассортативность: %s\" % nx.degree_assortativity_coefficient(i))\n",
    "        #print (\"Средний кратчайший путь: %s\" % nx.average_shortest_path_length(i))\n",
    "        print (\"Средний коэфиициент кластеризации: %s\" % nx.average_clustering(i))\n",
    "        print (\"Транзитивность: %s\" % nx.transitivity(i))\n",
    "        print ('')"
   ]
  },
  {
   "cell_type": "markdown",
   "metadata": {},
   "source": [
    "### 2) Постройте распределения по степени связности, распределение коэффициента кластеризации, распределение центральности. Какой статистике подчиняются эти распределения, сделайте предположения, подтвердите их соответствующей аппроксимацией (здесь речь идет в первую очередь о распределении по степеням degree distribution)"
   ]
  },
  {
   "cell_type": "markdown",
   "metadata": {},
   "source": [
    "#### Распределение по степени связности"
   ]
  },
  {
   "cell_type": "code",
   "execution_count": 51,
   "metadata": {
    "collapsed": false
   },
   "outputs": [
    {
     "data": {
      "text/plain": [
       "<function matplotlib.pyplot.plot>"
      ]
     },
     "execution_count": 51,
     "metadata": {},
     "output_type": "execute_result"
    },
    {
     "data": {
      "image/png": "[encoded data removed]",
      "text/plain": [
       "<matplotlib.figure.Figure at 0x1f1f081cf98>"
      ]
     },
     "metadata": {},
     "output_type": "display_data"
    }
   ],
   "source": [
    "degree_sequence=sorted(nx.degree(g).values(),reverse=True)\n",
    "plt.figure(figsize=(7, 5))\n",
    "plt.hist(degree_sequence, bins=50)\n",
    "plt.plot"
   ]
  },
  {
   "cell_type": "markdown",
   "metadata": {},
   "source": [
    "Данное распределение подчиняется степенному закону. Докажем это с помощью степенной аппроксимации."
   ]
  },
  {
   "cell_type": "code",
   "execution_count": 52,
   "metadata": {
    "collapsed": false
   },
   "outputs": [
    {
     "data": {
      "text/plain": [
       "<matplotlib.axes._subplots.AxesSubplot at 0x1f1f08ed710>"
      ]
     },
     "execution_count": 52,
     "metadata": {},
     "output_type": "execute_result"
    },
    {
     "data": {
      "image/png": "[encoded data removed]",
      "text/plain": [
       "<matplotlib.figure.Figure at 0x1f1f0d29898>"
      ]
     },
     "metadata": {},
     "output_type": "display_data"
    }
   ],
   "source": [
    "import seaborn as sns\n",
    "import scipy\n",
    "sns.distplot(degree_sequence, kde=False, fit=scipy.stats.powerlaw)"
   ]
  },
  {
   "cell_type": "markdown",
   "metadata": {},
   "source": [
    "#### Распределение коэффициента кластеризации"
   ]
  },
  {
   "cell_type": "code",
   "execution_count": 53,
   "metadata": {
    "collapsed": false
   },
   "outputs": [
    {
     "data": {
      "text/plain": [
       "<function matplotlib.pyplot.plot>"
      ]
     },
     "execution_count": 53,
     "metadata": {},
     "output_type": "execute_result"
    },
    {
     "data": {
      "image/png": "[encoded data removed]",
      "text/plain": [
       "<matplotlib.figure.Figure at 0x1f1ecb46f98>"
      ]
     },
     "metadata": {},
     "output_type": "display_data"
    }
   ],
   "source": [
    "clustering_sequence=sorted(nx.clustering(g).values(),reverse=True)\n",
    "plt.figure(figsize=(7, 5))\n",
    "plt.hist(clustering_sequence, bins=50)\n",
    "plt.plot"
   ]
  },
  {
   "cell_type": "markdown",
   "metadata": {},
   "source": [
    "#### Распределение центральностей"
   ]
  },
  {
   "cell_type": "code",
   "execution_count": 54,
   "metadata": {
    "collapsed": false
   },
   "outputs": [
    {
     "data": {
      "text/plain": [
       "[]"
      ]
     },
     "execution_count": 54,
     "metadata": {},
     "output_type": "execute_result"
    },
    {
     "data": {
      "image/png": "[encoded data removed]",
      "text/plain": [
       "<matplotlib.figure.Figure at 0x1f1f0149390>"
      ]
     },
     "metadata": {},
     "output_type": "display_data"
    }
   ],
   "source": [
    "betweenness_centrality_sequence=sorted(nx.betweenness_centrality(g).values(),reverse=True) \n",
    "plt.figure(figsize=(7, 5))\n",
    "plt.hist(betweenness_centrality_sequence, bins=50)\n",
    "plt.plot()"
   ]
  },
  {
   "cell_type": "code",
   "execution_count": null,
   "metadata": {
    "collapsed": true
   },
   "outputs": [],
   "source": []
  },
  {
   "cell_type": "code",
   "execution_count": null,
   "metadata": {
    "collapsed": true
   },
   "outputs": [],
   "source": []
  },
  {
   "cell_type": "markdown",
   "metadata": {},
   "source": [
    "### 3) Смоделируйте случайные сети с таким же числом вершин и такой же плотностью: случайная сеть Эрдеша-Реньи, случайная сеть Барабаши-Альберта. Для ансамбля таких сетей определите средние значения топологических характеристик, сравните с выбранной сетью (пункт 1). Какая модель описывает свойства лучше?"
   ]
  },
  {
   "cell_type": "markdown",
   "metadata": {},
   "source": [
    "Смоделируем сети с параметрами выбранной сети:"
   ]
  },
  {
   "cell_type": "code",
   "execution_count": 57,
   "metadata": {
    "collapsed": false
   },
   "outputs": [
    {
     "name": "stdout",
     "output_type": "stream",
     "text": [
      "Число вершин: 9877, плотность: 0.000533044909248889\n"
     ]
    }
   ],
   "source": [
    "nodes = nx.number_of_nodes(g)\n",
    "density = nx.density(g)\n",
    "print(\"Число вершин: {}, плотность: {}\".format(nodes, density))"
   ]
  },
  {
   "cell_type": "markdown",
   "metadata": {
    "collapsed": true
   },
   "source": [
    "#### Сеть Эрдеша-Реньи"
   ]
  },
  {
   "cell_type": "code",
   "execution_count": 75,
   "metadata": {
    "collapsed": false
   },
   "outputs": [],
   "source": [
    "num = 100\n",
    "ER_ass = []\n",
    "#ER_av_p = []\n",
    "ER_cl = []\n",
    "ER_tr = []\n",
    "for j in range(num):\n",
    "    ER = nx.erdos_renyi_graph(nodes, density)\n",
    "    for i, p in enumerate(nx.connected_component_subgraphs(ER)):\n",
    "        if (i==0):\n",
    "            ER_ass.append(nx.degree_assortativity_coefficient(p))\n",
    "            ER_cl.append(nx.average_clustering(p))\n",
    "            ER_tr.append(nx.transitivity(p))"
   ]
  },
  {
   "cell_type": "markdown",
   "metadata": {},
   "source": [
    "Посчитаем средние характеристики для ансамбля сетей.(Средний путь не считала, так как очень долго считается)"
   ]
  },
  {
   "cell_type": "code",
   "execution_count": 78,
   "metadata": {
    "collapsed": false
   },
   "outputs": [],
   "source": [
    "ER_ass_m = np.mean(ER_ass)\n",
    "#ER_av_p_m = np.mean(ER_av_p)\n",
    "ER_cl_m = np.mean(ER_cl)\n",
    "ER_tr_m = np.mean(ER_tr)"
   ]
  },
  {
   "cell_type": "code",
   "execution_count": 81,
   "metadata": {
    "collapsed": false
   },
   "outputs": [
    {
     "name": "stdout",
     "output_type": "stream",
     "text": [
      "Средняя ассортативность: 0.00026030035698954614\n",
      "Средний коэффициент кластеризации: 0.0005244069684615409\n",
      "Средняя транзитивность: 0.0005385387702818154\n"
     ]
    }
   ],
   "source": [
    "print (\"Средняя ассортативность: {}\".format(ER_ass_m))\n",
    "print (\"Средний коэффициент кластеризации: {}\".format(ER_cl_m))\n",
    "print (\"Средняя транзитивность: {}\".format(ER_tr_m))"
   ]
  },
  {
   "cell_type": "markdown",
   "metadata": {},
   "source": [
    "#### Сеть Барабаши-Альберта"
   ]
  },
  {
   "cell_type": "markdown",
   "metadata": {},
   "source": [
    "Для того, чтобы построить данную модель необходимо определить число ребер у новой вершины так, чтобф совпадали плотности первоначального и моделируемого графов."
   ]
  },
  {
   "cell_type": "code",
   "execution_count": 84,
   "metadata": {
    "collapsed": false
   },
   "outputs": [
    {
     "name": "stdout",
     "output_type": "stream",
     "text": [
      "Выбранное m: 2\n"
     ]
    }
   ],
   "source": [
    "l = np.arange(1, 5)\n",
    "razn = []\n",
    "for i in l:\n",
    "    BA = nx.barabasi_albert_graph(nodes, i)\n",
    "    d = nx.density(BA)\n",
    "    razn.append(abs(d - density))\n",
    "m = razn.index(min(razn))\n",
    "print(\"Выбранное m: {}\".format(m))"
   ]
  },
  {
   "cell_type": "code",
   "execution_count": 86,
   "metadata": {
    "collapsed": false
   },
   "outputs": [],
   "source": [
    "num = 100\n",
    "BA_ass = []\n",
    "#ER_av_p = []\n",
    "BA_cl = []\n",
    "BA_tr = []\n",
    "for j in range(num):\n",
    "    BA = nx.barabasi_albert_graph(nodes,2)\n",
    "    for i, p in enumerate(nx.connected_component_subgraphs(BA)):\n",
    "        if (i==0):\n",
    "            BA_ass.append(nx.degree_assortativity_coefficient(p))\n",
    "            BA_cl.append(nx.average_clustering(p))\n",
    "            BA_tr.append(nx.transitivity(p))"
   ]
  },
  {
   "cell_type": "code",
   "execution_count": 87,
   "metadata": {
    "collapsed": true
   },
   "outputs": [],
   "source": [
    "BA_ass_m = np.mean(BA_ass)\n",
    "#BA_av_p_m = np.mean(ER_av_p)\n",
    "BA_cl_m = np.mean(BA_cl)\n",
    "BA_tr_m = np.mean(BA_tr)"
   ]
  },
  {
   "cell_type": "code",
   "execution_count": 88,
   "metadata": {
    "collapsed": false
   },
   "outputs": [
    {
     "name": "stdout",
     "output_type": "stream",
     "text": [
      "Средняя ассортативность: -0.045864615199310996\n",
      "Средний коэффициент кластеризации: 0.004668431204784876\n",
      "Средняя транзитивность: 0.0015786505012949392\n"
     ]
    }
   ],
   "source": [
    "print (\"Средняя ассортативность: {}\".format(BA_ass_m))\n",
    "print (\"Средний коэффициент кластеризации: {}\".format(BA_cl_m))\n",
    "print (\"Средняя транзитивность: {}\".format(BA_tr_m))"
   ]
  },
  {
   "cell_type": "markdown",
   "metadata": {},
   "source": [
    "###  4) (дополнительно) к распределениям пункта 2 добавьте распределения, характерные для ансамбля случайных сетей из пункта 3. Какая модель лучше описывает локальные свойства выбранной сети?"
   ]
  },
  {
   "cell_type": "markdown",
   "metadata": {},
   "source": [
    "Сеть Эрдеша-Реньи"
   ]
  },
  {
   "cell_type": "code",
   "execution_count": 98,
   "metadata": {
    "collapsed": false
   },
   "outputs": [
    {
     "data": {
      "text/plain": [
       "<function matplotlib.pyplot.plot>"
      ]
     },
     "execution_count": 98,
     "metadata": {},
     "output_type": "execute_result"
    },
    {
     "data": {
      "image/png": "[encoded data removed]",
      "text/plain": [
       "<matplotlib.figure.Figure at 0x1f1f0f54128>"
      ]
     },
     "metadata": {},
     "output_type": "display_data"
    }
   ],
   "source": [
    "ER1 = nx.erdos_renyi_graph(nodes, density)\n",
    "degree_sequence = sorted(nx.degree(ER1).values(),reverse=True)\n",
    "b = max(degree_sequence)-min(degree_sequence)\n",
    "plt.figure(figsize = (7, 5))\n",
    "plt.hist(degree_sequence, bins=b)\n",
    "plt.title(\"Распределение степеней (Эрдеша-Реньи)\", fontsize=16)\n",
    "plt.plot"
   ]
  },
  {
   "cell_type": "code",
   "execution_count": 105,
   "metadata": {
    "collapsed": false
   },
   "outputs": [
    {
     "data": {
      "text/plain": [
       "<function matplotlib.pyplot.plot>"
      ]
     },
     "execution_count": 105,
     "metadata": {},
     "output_type": "execute_result"
    },
    {
     "data": {
      "image/png": "[encoded data removed]",
      "text/plain": [
       "<matplotlib.figure.Figure at 0x1f1f0f6d0f0>"
      ]
     },
     "metadata": {},
     "output_type": "display_data"
    }
   ],
   "source": [
    "clustering_sequence=sorted(nx.clustering(ER1).values(),reverse=True)\n",
    "plt.figure(figsize=(7, 5))\n",
    "plt.hist(clustering_sequence, bins=10)\n",
    "plt.title(\"Распределение коэффициента кластеризации (Эрдеша-Реньи)\", fontsize=16)\n",
    "plt.plot"
   ]
  },
  {
   "cell_type": "code",
   "execution_count": 100,
   "metadata": {
    "collapsed": false
   },
   "outputs": [
    {
     "data": {
      "text/plain": [
       "[]"
      ]
     },
     "execution_count": 100,
     "metadata": {},
     "output_type": "execute_result"
    },
    {
     "data": {
      "image/png": "[encoded data removed]",
      "text/plain": [
       "<matplotlib.figure.Figure at 0x1f1efd01ac8>"
      ]
     },
     "metadata": {},
     "output_type": "display_data"
    }
   ],
   "source": [
    "betweenness_centrality_sequence=sorted(nx.betweenness_centrality(ER1).values(),reverse=True) \n",
    "plt.figure(figsize=(7, 5))\n",
    "plt.hist(betweenness_centrality_sequence, bins=50)\n",
    "plt.title(\"Распределение центральностей (Эрдеша-Реньи)\", fontsize=16)\n",
    "plt.plot()"
   ]
  },
  {
   "cell_type": "markdown",
   "metadata": {},
   "source": [
    "Сеть Барабаши-Альберта"
   ]
  },
  {
   "cell_type": "code",
   "execution_count": 107,
   "metadata": {
    "collapsed": false
   },
   "outputs": [
    {
     "data": {
      "text/plain": [
       "<function matplotlib.pyplot.plot>"
      ]
     },
     "execution_count": 107,
     "metadata": {},
     "output_type": "execute_result"
    },
    {
     "data": {
      "image/png": "[encoded data removed]",
      "text/plain": [
       "<matplotlib.figure.Figure at 0x1f1ef9e3898>"
      ]
     },
     "metadata": {},
     "output_type": "display_data"
    }
   ],
   "source": [
    "BA1 = nx.barabasi_albert_graph(nodes,2)\n",
    "degree_sequence = sorted(nx.degree(BA1).values(),reverse=True)\n",
    "b = max(degree_sequence)-min(degree_sequence)\n",
    "plt.figure(figsize = (7, 5))\n",
    "plt.hist(degree_sequence, bins=b)\n",
    "plt.title(\"Распределение степеней (Барабаши-Альберта)\", fontsize=16)\n",
    "plt.plot"
   ]
  },
  {
   "cell_type": "code",
   "execution_count": 108,
   "metadata": {
    "collapsed": false
   },
   "outputs": [
    {
     "data": {
      "text/plain": [
       "<function matplotlib.pyplot.plot>"
      ]
     },
     "execution_count": 108,
     "metadata": {},
     "output_type": "execute_result"
    },
    {
     "data": {
      "image/png": "[encoded data removed]",
      "text/plain": [
       "<matplotlib.figure.Figure at 0x1f1ebc07c50>"
      ]
     },
     "metadata": {},
     "output_type": "display_data"
    }
   ],
   "source": [
    "clustering_sequence=sorted(nx.clustering(BA1).values(),reverse=True)\n",
    "plt.figure(figsize=(7, 5))\n",
    "plt.hist(clustering_sequence, bins=20)\n",
    "plt.title(\"Распределение коэффициента кластеризации (Барабаши-Альберта)\", fontsize=16)\n",
    "plt.plot"
   ]
  },
  {
   "cell_type": "code",
   "execution_count": 109,
   "metadata": {
    "collapsed": false
   },
   "outputs": [
    {
     "data": {
      "text/plain": [
       "[]"
      ]
     },
     "execution_count": 109,
     "metadata": {},
     "output_type": "execute_result"
    },
    {
     "data": {
      "image/png": "[encoded data removed]",
      "text/plain": [
       "<matplotlib.figure.Figure at 0x1f1f0149390>"
      ]
     },
     "metadata": {},
     "output_type": "display_data"
    }
   ],
   "source": [
    "betweenness_centrality_sequence=sorted(nx.betweenness_centrality(BA1).values(),reverse=True) \n",
    "plt.figure(figsize=(7, 5))\n",
    "plt.hist(betweenness_centrality_sequence, bins=20)\n",
    "plt.title(\"Распределение центральностей (Барабаши-Альберта)\", fontsize=16)\n",
    "plt.plot()"
   ]
  },
  {
   "cell_type": "markdown",
   "metadata": {},
   "source": [
    "На основании построенных графиков и полученных численных характеристик можно сделать вывод о том, что сети Эрдеша-Реньи плохо описывает выбранную ранее сеть (числовые характеристики значительно различаются, а распределения имеют совершенно разный вид).\n",
    "Сеть Барабаши-Альберта описывает выбранную ранее сеть лучше (числовые характеристики немного различны, но распределения близки)."
   ]
  }
 ],
 "metadata": {
  "kernelspec": {
   "display_name": "Python 3",
   "language": "python",
   "name": "python3"
  },
  "language_info": {
   "codemirror_mode": {
    "name": "ipython",
    "version": 3
   },
   "file_extension": ".py",
   "mimetype": "text/x-python",
   "name": "python",
   "nbconvert_exporter": "python",
   "pygments_lexer": "ipython3",
   "version": "3.6.0"
  }
 },
 "nbformat": 4,
 "nbformat_minor": 2
}
